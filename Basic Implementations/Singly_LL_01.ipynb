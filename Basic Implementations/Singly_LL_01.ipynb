{
 "cells": [
  {
   "cell_type": "markdown",
   "id": "bc1b6b8a",
   "metadata": {},
   "source": [
    "<p>Create a Class just to create a node</p>\n",
    "<p>In the node, initialize a method (__init__)</p>\n",
    "<p>Each node conatins 2 fields- data and link</p>\n",
    "<p>So in the method, create 2 fields</p>\n",
    "<p>While creating a node, set reference to None</p>"
   ]
  },
  {
   "cell_type": "code",
   "execution_count": 91,
   "id": "949a418f",
   "metadata": {},
   "outputs": [],
   "source": [
    "class Node:\n",
    "    \n",
    "    def __init__(self, data):\n",
    "        self.data = data\n",
    "        self.ref = None"
   ]
  },
  {
   "cell_type": "markdown",
   "id": "560cda53",
   "metadata": {},
   "source": [
    "<p>Creating a node with data 10, then printing it</p>"
   ]
  },
  {
   "cell_type": "code",
   "execution_count": 92,
   "id": "f1070a2e",
   "metadata": {
    "scrolled": true
   },
   "outputs": [
    {
     "name": "stdout",
     "output_type": "stream",
     "text": [
      "<__main__.Node object at 0x7f8970556670>\n"
     ]
    }
   ],
   "source": [
    "node1 = Node(10)\n",
    "print(node1)"
   ]
  },
  {
   "cell_type": "markdown",
   "id": "db23abd1",
   "metadata": {},
   "source": [
    "<p>Create a Class to create link between nodes</p>\n",
    "<p>First we create an empty LL, so for that head is null</p>"
   ]
  },
  {
   "cell_type": "code",
   "execution_count": 93,
   "id": "e523fcad",
   "metadata": {},
   "outputs": [],
   "source": [
    "class LinkedList:\n",
    "    \n",
    "    def __init__(self):\n",
    "        self.head = None\n",
    "        \n",
    "     \n",
    "    # creating a method to print LL, Traversing\n",
    "    \n",
    "    def print_LL(self):\n",
    "        if self.head is None:\n",
    "            print(\"LL is empty\")\n",
    "        else:\n",
    "            n = self.head\n",
    "            while n is not None:\n",
    "                print(n.data, '-->', end = ' ')\n",
    "                n = n.ref\n",
    "    \n",
    "    \n",
    "    # adding a node at the beginning of a LL\n",
    "    \n",
    "    def add_begin(self, data):\n",
    "        new_node = Node(data)\n",
    "        new_node.ref = self.head\n",
    "        self.head = new_node\n",
    "    \n",
    "    \n",
    "    # adding a node at the end of a LL\n",
    "    \n",
    "    def add_end(self, data):\n",
    "        new_node = Node(data)\n",
    "        if self.head is None:\n",
    "            self.head = new_node\n",
    "        else:\n",
    "            n = self.head\n",
    "            while n.ref is not None:\n",
    "                n = n.ref\n",
    "            n.ref = new_node\n",
    "    \n",
    "    \n",
    "    # add a node after a given node in a LL\n",
    "    \n",
    "    def add_after(self, data, x):\n",
    "        if self.head is None:\n",
    "            print(\"LL is empty\")\n",
    "        else:\n",
    "            n = self.head\n",
    "            while n.ref is not None:\n",
    "                if n.data == x:\n",
    "                    break\n",
    "                n = n.ref          \n",
    "            if n is None:\n",
    "                print(\"Node not found\")\n",
    "            else: \n",
    "                new_node = Node(data)\n",
    "                new_node.ref = n.ref\n",
    "                n.ref = new_node\n",
    "                \n",
    "                \n",
    "    # add a node before a given node in a LL\n",
    "    \n",
    "    def add_before(self, data, x):\n",
    "        new_node = Node(data)\n",
    "        if self.head is None:\n",
    "            print(\"LL is empty\")\n",
    "        elif self.head.data == x:\n",
    "            new_node.ref = self.head\n",
    "            self.head = new_node          \n",
    "        else:\n",
    "            n = self.head\n",
    "            while n is not None:\n",
    "                if n.ref.data == x:\n",
    "                    break\n",
    "                n = n.ref\n",
    "            if n is None:\n",
    "                print(\"Node not found\")\n",
    "            else:\n",
    "                new_node.ref = n.ref\n",
    "                n.ref = new_node\n",
    "    \n",
    "    \n",
    "    # add a node to an empty LL\n",
    "    \n",
    "    def add_empty(self, data):\n",
    "        new_node = Node(data)\n",
    "        \n",
    "        if self.head is None:\n",
    "            self.head = new_node\n",
    "        else:\n",
    "            print('LL is not empty')\n",
    "    \n",
    "    \n",
    "    # delete first from a LL\n",
    "    \n",
    "    def delete_first(self):\n",
    "        if self.head is None:\n",
    "            print(\"LL is empty\")\n",
    "        else:\n",
    "            self.head = self.head.ref\n",
    "            \n",
    "    \n",
    "    # delete last node from a LL\n",
    "    \n",
    "    def delete_end(self):\n",
    "        if self.head is None:\n",
    "            print(\"LL is empty\")\n",
    "        else:\n",
    "            n = self.head\n",
    "            while n.ref.ref is not None:\n",
    "                n = n.ref\n",
    "            n.ref = None\n",
    "            \n",
    "    \n",
    "    # delete node by value from a LL\n",
    "    \n",
    "    def delete_value(self, x):\n",
    "        if self.head is None:\n",
    "            print(\"LL is empty\")\n",
    "        elif x == self.head.data:\n",
    "            self.head == self.head.ref\n",
    "        else:\n",
    "            n = self.head\n",
    "            while n.ref is not None:\n",
    "                if n.ref.data == x:\n",
    "                    break\n",
    "                n = n.ref\n",
    "            if n.ref is None:\n",
    "                print(\"Node not found\")\n",
    "            else:\n",
    "                n.ref = n.ref.ref\n",
    "                    \n",
    "                "
   ]
  },
  {
   "cell_type": "code",
   "execution_count": 94,
   "id": "1173e1a0",
   "metadata": {},
   "outputs": [
    {
     "name": "stdout",
     "output_type": "stream",
     "text": [
      "LL is not empty\n",
      "10 --> 30 --> "
     ]
    }
   ],
   "source": [
    "LL1 = LinkedList()\n",
    "LL1.add_begin(10)\n",
    "LL1.add_begin(20)\n",
    "LL1.add_end(30)\n",
    "LL1.add_after(50, 30)\n",
    "LL1.add_before(100, 50)\n",
    "LL1.add_empty(40)\n",
    "LL1.delete_first()\n",
    "LL1.delete_end()\n",
    "LL1.delete_value(100)\n",
    "\n",
    "LL1.print_LL()"
   ]
  }
 ],
 "metadata": {
  "kernelspec": {
   "display_name": "Python 3 (ipykernel)",
   "language": "python",
   "name": "python3"
  },
  "language_info": {
   "codemirror_mode": {
    "name": "ipython",
    "version": 3
   },
   "file_extension": ".py",
   "mimetype": "text/x-python",
   "name": "python",
   "nbconvert_exporter": "python",
   "pygments_lexer": "ipython3",
   "version": "3.9.7"
  }
 },
 "nbformat": 4,
 "nbformat_minor": 5
}
